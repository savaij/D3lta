{
 "cells": [
  {
   "cell_type": "code",
   "execution_count": 1,
   "id": "db64af90",
   "metadata": {},
   "outputs": [],
   "source": [
    "import astrodetection\n",
    "import glob\n",
    "import pandas as pd\n",
    "import os\n",
    "import numpy as np"
   ]
  },
  {
   "cell_type": "code",
   "execution_count": null,
   "id": "158d753a",
   "metadata": {},
   "outputs": [],
   "source": [
    "path = \"PATH_TO_FOLDER\""
   ]
  },
  {
   "cell_type": "code",
   "execution_count": 3,
   "id": "a0d78216",
   "metadata": {},
   "outputs": [],
   "source": [
    "df_dict = {}\n",
    "for file in glob.glob(f\"{path}/*.json\"):\n",
    "    df = pd.read_json(file)\n",
    "    df.index = df.index.astype(str) #compatibility with d3lta\n",
    "    n_file = os.path.split(file)[-1]\n",
    "    df_dict[n_file] = df"
   ]
  },
  {
   "cell_type": "code",
   "execution_count": 4,
   "id": "0613f7fd",
   "metadata": {},
   "outputs": [],
   "source": [
    "def preprocess_df(df):\n",
    "\n",
    "  df = df[df['tweet'].str.len() > 100]\n",
    "  df = df[df['username']!='grok']\n",
    "  df.index = df.index.astype(str)\n",
    "\n",
    "  return df"
   ]
  },
  {
   "cell_type": "code",
   "execution_count": 5,
   "id": "0140317d",
   "metadata": {},
   "outputs": [],
   "source": [
    "for n_file, df in df_dict.items():\n",
    "    df_dict[n_file] = preprocess_df(df)"
   ]
  },
  {
   "cell_type": "code",
   "execution_count": 7,
   "id": "a0a669f6",
   "metadata": {},
   "outputs": [
    {
     "name": "stdout",
     "output_type": "stream",
     "text": [
      ">>> Start prepare_dataset\n",
      "Done.\n",
      "\n",
      "Removing 0 short texts over 3464 sentences...\n",
      "Done.\n",
      "<<< End prepare_dataset, Took: 9.7231 sec\n",
      ">>> Start create_index_cosine\n",
      "<<< End create_index_cosine, Took: 0.0143 sec\n",
      ">>> Start find_matches\n"
     ]
    },
    {
     "data": {
      "application/vnd.jupyter.widget-view+json": {
       "model_id": "d2ad398ac8294dd59bfd75575c43ba3b",
       "version_major": 2,
       "version_minor": 0
      },
      "text/plain": [
       "  0%|          | 0/35 [00:00<?, ?it/s]"
      ]
     },
     "metadata": {},
     "output_type": "display_data"
    },
    {
     "name": "stdout",
     "output_type": "stream",
     "text": [
      "<<< End find_matches, Took: 3.1344 sec\n",
      ">>> Start compute_duplicate_types\n",
      "<<< End compute_duplicate_types, Took: 1.2434 sec\n",
      ">>> Start prepare_dataset\n",
      "Done.\n",
      "\n",
      "Removing 0 short texts over 4270 sentences...\n",
      "Done.\n",
      "<<< End prepare_dataset, Took: 11.6766 sec\n",
      ">>> Start create_index_cosine\n",
      "<<< End create_index_cosine, Took: 0.0118 sec\n",
      ">>> Start find_matches\n"
     ]
    },
    {
     "data": {
      "application/vnd.jupyter.widget-view+json": {
       "model_id": "d939fdcbb89a445dac9d0de1595d92a3",
       "version_major": 2,
       "version_minor": 0
      },
      "text/plain": [
       "  0%|          | 0/43 [00:00<?, ?it/s]"
      ]
     },
     "metadata": {},
     "output_type": "display_data"
    },
    {
     "name": "stdout",
     "output_type": "stream",
     "text": [
      "<<< End find_matches, Took: 9.3723 sec\n",
      ">>> Start compute_duplicate_types\n",
      "<<< End compute_duplicate_types, Took: 4.5779 sec\n",
      ">>> Start prepare_dataset\n",
      "Done.\n",
      "\n",
      "Removing 0 short texts over 3463 sentences...\n",
      "Done.\n",
      "<<< End prepare_dataset, Took: 9.9415 sec\n",
      ">>> Start create_index_cosine\n",
      "<<< End create_index_cosine, Took: 0.0043 sec\n",
      ">>> Start find_matches\n"
     ]
    },
    {
     "data": {
      "application/vnd.jupyter.widget-view+json": {
       "model_id": "e56a63a9dac34a3c9d3d92df19877fe9",
       "version_major": 2,
       "version_minor": 0
      },
      "text/plain": [
       "  0%|          | 0/35 [00:00<?, ?it/s]"
      ]
     },
     "metadata": {},
     "output_type": "display_data"
    },
    {
     "name": "stdout",
     "output_type": "stream",
     "text": [
      "<<< End find_matches, Took: 0.7422 sec\n",
      ">>> Start compute_duplicate_types\n",
      "<<< End compute_duplicate_types, Took: 0.0688 sec\n",
      ">>> Start prepare_dataset\n",
      "Done.\n",
      "\n",
      "Removing 0 short texts over 611 sentences...\n",
      "Done.\n",
      "<<< End prepare_dataset, Took: 2.1362 sec\n",
      ">>> Start create_index_cosine\n",
      "<<< End create_index_cosine, Took: 0.0017 sec\n",
      ">>> Start find_matches\n"
     ]
    },
    {
     "data": {
      "application/vnd.jupyter.widget-view+json": {
       "model_id": "6a886ed5da9c48c9b6f80673353720e2",
       "version_major": 2,
       "version_minor": 0
      },
      "text/plain": [
       "  0%|          | 0/7 [00:00<?, ?it/s]"
      ]
     },
     "metadata": {},
     "output_type": "display_data"
    },
    {
     "name": "stdout",
     "output_type": "stream",
     "text": [
      "<<< End find_matches, Took: 1.5081 sec\n",
      ">>> Start compute_duplicate_types\n",
      "<<< End compute_duplicate_types, Took: 0.9705 sec\n",
      ">>> Start prepare_dataset\n",
      "Done.\n",
      "\n",
      "Removing 0 short texts over 1364 sentences...\n",
      "Done.\n",
      "<<< End prepare_dataset, Took: 4.4585 sec\n",
      ">>> Start create_index_cosine\n",
      "<<< End create_index_cosine, Took: 0.0040 sec\n",
      ">>> Start find_matches\n"
     ]
    },
    {
     "data": {
      "application/vnd.jupyter.widget-view+json": {
       "model_id": "ff43c1161f924fc4a40c3370e32d8f75",
       "version_major": 2,
       "version_minor": 0
      },
      "text/plain": [
       "  0%|          | 0/14 [00:00<?, ?it/s]"
      ]
     },
     "metadata": {},
     "output_type": "display_data"
    },
    {
     "name": "stdout",
     "output_type": "stream",
     "text": [
      "<<< End find_matches, Took: 7.8111 sec\n",
      ">>> Start compute_duplicate_types\n",
      "<<< End compute_duplicate_types, Took: 3.1419 sec\n",
      ">>> Start prepare_dataset\n",
      "Done.\n",
      "\n",
      "Removing 0 short texts over 1406 sentences...\n",
      "Done.\n",
      "<<< End prepare_dataset, Took: 4.9047 sec\n",
      ">>> Start create_index_cosine\n",
      "<<< End create_index_cosine, Took: 0.0079 sec\n",
      ">>> Start find_matches\n"
     ]
    },
    {
     "data": {
      "application/vnd.jupyter.widget-view+json": {
       "model_id": "75c5c250ae0546a7bd10e267b0b698ad",
       "version_major": 2,
       "version_minor": 0
      },
      "text/plain": [
       "  0%|          | 0/15 [00:00<?, ?it/s]"
      ]
     },
     "metadata": {},
     "output_type": "display_data"
    },
    {
     "name": "stdout",
     "output_type": "stream",
     "text": [
      "<<< End find_matches, Took: 1.3183 sec\n",
      ">>> Start compute_duplicate_types\n",
      "<<< End compute_duplicate_types, Took: 0.7227 sec\n",
      ">>> Start prepare_dataset\n",
      "Done.\n",
      "\n",
      "Removing 0 short texts over 220 sentences...\n",
      "Done.\n",
      "<<< End prepare_dataset, Took: 0.6524 sec\n",
      ">>> Start create_index_cosine\n",
      "<<< End create_index_cosine, Took: 0.0004 sec\n",
      ">>> Start find_matches\n"
     ]
    },
    {
     "data": {
      "application/vnd.jupyter.widget-view+json": {
       "model_id": "6527efd568da46329875df17494b4fd7",
       "version_major": 2,
       "version_minor": 0
      },
      "text/plain": [
       "  0%|          | 0/3 [00:00<?, ?it/s]"
      ]
     },
     "metadata": {},
     "output_type": "display_data"
    },
    {
     "name": "stdout",
     "output_type": "stream",
     "text": [
      "<<< End find_matches, Took: 0.2661 sec\n",
      ">>> Start compute_duplicate_types\n",
      "<<< End compute_duplicate_types, Took: 0.0417 sec\n",
      ">>> Start prepare_dataset\n",
      "Done.\n",
      "\n",
      "Removing 0 short texts over 917 sentences...\n",
      "Done.\n",
      "<<< End prepare_dataset, Took: 2.5723 sec\n",
      ">>> Start create_index_cosine\n",
      "<<< End create_index_cosine, Took: 0.0011 sec\n",
      ">>> Start find_matches\n"
     ]
    },
    {
     "data": {
      "application/vnd.jupyter.widget-view+json": {
       "model_id": "22561c221174479387752d30cc51e350",
       "version_major": 2,
       "version_minor": 0
      },
      "text/plain": [
       "  0%|          | 0/10 [00:00<?, ?it/s]"
      ]
     },
     "metadata": {},
     "output_type": "display_data"
    },
    {
     "name": "stdout",
     "output_type": "stream",
     "text": [
      "<<< End find_matches, Took: 1.3378 sec\n",
      ">>> Start compute_duplicate_types\n",
      "<<< End compute_duplicate_types, Took: 0.6104 sec\n",
      ">>> Start prepare_dataset\n",
      "Done.\n",
      "\n",
      "Removing 0 short texts over 2153 sentences...\n",
      "Done.\n",
      "<<< End prepare_dataset, Took: 5.2120 sec\n",
      ">>> Start create_index_cosine\n",
      "<<< End create_index_cosine, Took: 0.0056 sec\n",
      ">>> Start find_matches\n"
     ]
    },
    {
     "data": {
      "application/vnd.jupyter.widget-view+json": {
       "model_id": "cafc3e404d084e6c96a7806f85479a00",
       "version_major": 2,
       "version_minor": 0
      },
      "text/plain": [
       "  0%|          | 0/22 [00:00<?, ?it/s]"
      ]
     },
     "metadata": {},
     "output_type": "display_data"
    },
    {
     "name": "stdout",
     "output_type": "stream",
     "text": [
      "<<< End find_matches, Took: 0.6525 sec\n",
      ">>> Start compute_duplicate_types\n",
      "<<< End compute_duplicate_types, Took: 0.1280 sec\n"
     ]
    }
   ],
   "source": [
    "dict_matches = {}\n",
    "dict_scores = {}\n",
    "\n",
    "for n_file, df in df_dict.items():\n",
    "    df_filtered, df_emb = astrodetection.prepare_input_data(df, \n",
    "        embeddings=df['emb'])\n",
    "    \n",
    "    matches, df_cluster = astrodetection.semantic_faiss(\n",
    "        df_filtered.rename(columns={'tweet':'original'}),\n",
    "        min_size_txt = 0,\n",
    "        df_embeddings_use = df_emb,\n",
    "        threshold_grapheme = 0.8,\n",
    "        threshold_language = 0.715,\n",
    "        threshold_semantic = 0.9\n",
    "    )\n",
    "\n",
    "    dict_matches[n_file] = matches\n",
    "\n",
    "    dict_scores[n_file] = astrodetection.compute_bot_likelihood_metrics(\n",
    "        df,\n",
    "        matches=matches\n",
    "    )"
   ]
  },
  {
   "cell_type": "code",
   "execution_count": 8,
   "id": "52fa1cbd",
   "metadata": {},
   "outputs": [],
   "source": [
    "df_scores = pd.DataFrame.from_dict(dict_scores, orient='index')"
   ]
  },
  {
   "cell_type": "code",
   "execution_count": 9,
   "id": "e717c67a",
   "metadata": {},
   "outputs": [],
   "source": [
    "def colora_cella(val, valore_riferimento):\n",
    "    if pd.isna(val):\n",
    "        return ''\n",
    "    if val > 2 * valore_riferimento:\n",
    "        return 'background-color: salmon'\n",
    "    elif val > valore_riferimento:\n",
    "        return 'background-color: yellow'\n",
    "    else:\n",
    "        return 'background-color: lightgreen'\n",
    "\n",
    "\n",
    "valori_riferimento = {}\n",
    "for col in df_scores.columns:\n",
    "    valori_riferimento[col] = max(df_scores.loc['lundi_semaine.json', col], df_scores.loc['OmarSy.json', col])\n",
    "\n",
    "def applica_colorazione(row):\n",
    "    styled_row = []\n",
    "    for col, val in row.items():\n",
    "        if col != 'number_of_tweets':\n",
    "          styled_row.append(colora_cella(val, valori_riferimento[col]))\n",
    "        else:\n",
    "          styled_row.append('')\n",
    "    return styled_row\n",
    "\n",
    "df_scores_colorato = df_scores.style.apply(applica_colorazione, axis=1)"
   ]
  },
  {
   "cell_type": "code",
   "execution_count": 10,
   "id": "1e669218",
   "metadata": {},
   "outputs": [
    {
     "data": {
      "text/html": [
       "<style type=\"text/css\">\n",
       "#T_9d19e_row0_col0, #T_9d19e_row0_col1, #T_9d19e_row0_col2, #T_9d19e_row0_col3, #T_9d19e_row1_col2, #T_9d19e_row1_col4, #T_9d19e_row1_col5, #T_9d19e_row2_col0, #T_9d19e_row2_col1, #T_9d19e_row2_col2, #T_9d19e_row2_col3, #T_9d19e_row2_col4, #T_9d19e_row2_col5, #T_9d19e_row3_col2, #T_9d19e_row3_col3, #T_9d19e_row3_col4, #T_9d19e_row3_col5, #T_9d19e_row4_col1, #T_9d19e_row4_col2, #T_9d19e_row5_col0, #T_9d19e_row5_col1, #T_9d19e_row5_col2, #T_9d19e_row5_col3, #T_9d19e_row5_col4, #T_9d19e_row5_col5, #T_9d19e_row6_col2, #T_9d19e_row7_col2, #T_9d19e_row7_col3, #T_9d19e_row8_col0, #T_9d19e_row8_col2, #T_9d19e_row8_col3, #T_9d19e_row8_col4, #T_9d19e_row8_col5 {\n",
       "  background-color: lightgreen;\n",
       "}\n",
       "#T_9d19e_row0_col4, #T_9d19e_row3_col0, #T_9d19e_row4_col0, #T_9d19e_row6_col3, #T_9d19e_row6_col5, #T_9d19e_row7_col0, #T_9d19e_row8_col1 {\n",
       "  background-color: salmon;\n",
       "}\n",
       "#T_9d19e_row0_col5, #T_9d19e_row1_col0, #T_9d19e_row1_col1, #T_9d19e_row1_col3, #T_9d19e_row3_col1, #T_9d19e_row4_col3, #T_9d19e_row4_col4, #T_9d19e_row4_col5, #T_9d19e_row6_col0, #T_9d19e_row6_col1, #T_9d19e_row6_col4, #T_9d19e_row7_col1, #T_9d19e_row7_col4, #T_9d19e_row7_col5 {\n",
       "  background-color: yellow;\n",
       "}\n",
       "</style>\n",
       "<table id=\"T_9d19e\">\n",
       "  <thead>\n",
       "    <tr>\n",
       "      <th class=\"blank level0\" >&nbsp;</th>\n",
       "      <th id=\"T_9d19e_level0_col0\" class=\"col_heading level0 col0\" >copypasta_score (%)</th>\n",
       "      <th id=\"T_9d19e_level0_col1\" class=\"col_heading level0 col1\" >top_users_post_percent (%)</th>\n",
       "      <th id=\"T_9d19e_level0_col2\" class=\"col_heading level0 col2\" >top_users_count</th>\n",
       "      <th id=\"T_9d19e_level0_col3\" class=\"col_heading level0 col3\" >zero_followers_and_following (%)</th>\n",
       "      <th id=\"T_9d19e_level0_col4\" class=\"col_heading level0 col4\" >no_image_and_description (%)</th>\n",
       "      <th id=\"T_9d19e_level0_col5\" class=\"col_heading level0 col5\" >default_handle_score (%)</th>\n",
       "      <th id=\"T_9d19e_level0_col6\" class=\"col_heading level0 col6\" >number_of_tweets</th>\n",
       "    </tr>\n",
       "  </thead>\n",
       "  <tbody>\n",
       "    <tr>\n",
       "      <th id=\"T_9d19e_level0_row0\" class=\"row_heading level0 row0\" >punaises_de_lit.json</th>\n",
       "      <td id=\"T_9d19e_row0_col0\" class=\"data row0 col0\" >9.500000</td>\n",
       "      <td id=\"T_9d19e_row0_col1\" class=\"data row0 col1\" >5.660000</td>\n",
       "      <td id=\"T_9d19e_row0_col2\" class=\"data row0 col2\" >29</td>\n",
       "      <td id=\"T_9d19e_row0_col3\" class=\"data row0 col3\" >0.060000</td>\n",
       "      <td id=\"T_9d19e_row0_col4\" class=\"data row0 col4\" >5.280000</td>\n",
       "      <td id=\"T_9d19e_row0_col5\" class=\"data row0 col5\" >8.340000</td>\n",
       "      <td id=\"T_9d19e_row0_col6\" class=\"data row0 col6\" >3464</td>\n",
       "    </tr>\n",
       "    <tr>\n",
       "      <th id=\"T_9d19e_level0_row1\" class=\"row_heading level0 row1\" >penurie.json</th>\n",
       "      <td id=\"T_9d19e_row1_col0\" class=\"data row1 col0\" >12.950000</td>\n",
       "      <td id=\"T_9d19e_row1_col1\" class=\"data row1 col1\" >12.150000</td>\n",
       "      <td id=\"T_9d19e_row1_col2\" class=\"data row1 col2\" >25</td>\n",
       "      <td id=\"T_9d19e_row1_col3\" class=\"data row1 col3\" >0.420000</td>\n",
       "      <td id=\"T_9d19e_row1_col4\" class=\"data row1 col4\" >1.870000</td>\n",
       "      <td id=\"T_9d19e_row1_col5\" class=\"data row1 col5\" >5.480000</td>\n",
       "      <td id=\"T_9d19e_row1_col6\" class=\"data row1 col6\" >4270</td>\n",
       "    </tr>\n",
       "    <tr>\n",
       "      <th id=\"T_9d19e_level0_row2\" class=\"row_heading level0 row2\" >lundi_semaine.json</th>\n",
       "      <td id=\"T_9d19e_row2_col0\" class=\"data row2 col0\" >4.790000</td>\n",
       "      <td id=\"T_9d19e_row2_col1\" class=\"data row2 col1\" >5.310000</td>\n",
       "      <td id=\"T_9d19e_row2_col2\" class=\"data row2 col2\" >30</td>\n",
       "      <td id=\"T_9d19e_row2_col3\" class=\"data row2 col3\" >0.090000</td>\n",
       "      <td id=\"T_9d19e_row2_col4\" class=\"data row2 col4\" >2.110000</td>\n",
       "      <td id=\"T_9d19e_row2_col5\" class=\"data row2 col5\" >7.620000</td>\n",
       "      <td id=\"T_9d19e_row2_col6\" class=\"data row2 col6\" >3463</td>\n",
       "    </tr>\n",
       "    <tr>\n",
       "      <th id=\"T_9d19e_level0_row3\" class=\"row_heading level0 row3\" >ZFE.json</th>\n",
       "      <td id=\"T_9d19e_row3_col0\" class=\"data row3 col0\" >40.430000</td>\n",
       "      <td id=\"T_9d19e_row3_col1\" class=\"data row3 col1\" >11.130000</td>\n",
       "      <td id=\"T_9d19e_row3_col2\" class=\"data row3 col2\" >5</td>\n",
       "      <td id=\"T_9d19e_row3_col3\" class=\"data row3 col3\" >0.160000</td>\n",
       "      <td id=\"T_9d19e_row3_col4\" class=\"data row3 col4\" >1.800000</td>\n",
       "      <td id=\"T_9d19e_row3_col5\" class=\"data row3 col5\" >4.750000</td>\n",
       "      <td id=\"T_9d19e_row3_col6\" class=\"data row3 col6\" >611</td>\n",
       "    </tr>\n",
       "    <tr>\n",
       "      <th id=\"T_9d19e_level0_row4\" class=\"row_heading level0 row4\" >trogneux_1000.json</th>\n",
       "      <td id=\"T_9d19e_row4_col0\" class=\"data row4 col0\" >23.020000</td>\n",
       "      <td id=\"T_9d19e_row4_col1\" class=\"data row4 col1\" >6.160000</td>\n",
       "      <td id=\"T_9d19e_row4_col2\" class=\"data row4 col2\" >12</td>\n",
       "      <td id=\"T_9d19e_row4_col3\" class=\"data row4 col3\" >0.220000</td>\n",
       "      <td id=\"T_9d19e_row4_col4\" class=\"data row4 col4\" >3.960000</td>\n",
       "      <td id=\"T_9d19e_row4_col5\" class=\"data row4 col5\" >12.760000</td>\n",
       "      <td id=\"T_9d19e_row4_col6\" class=\"data row4 col6\" >1364</td>\n",
       "    </tr>\n",
       "    <tr>\n",
       "      <th id=\"T_9d19e_level0_row5\" class=\"row_heading level0 row5\" >OmarSy.json</th>\n",
       "      <td id=\"T_9d19e_row5_col0\" class=\"data row5 col0\" >9.960000</td>\n",
       "      <td id=\"T_9d19e_row5_col1\" class=\"data row5 col1\" >7.750000</td>\n",
       "      <td id=\"T_9d19e_row5_col2\" class=\"data row5 col2\" >10</td>\n",
       "      <td id=\"T_9d19e_row5_col3\" class=\"data row5 col3\" >0.210000</td>\n",
       "      <td id=\"T_9d19e_row5_col4\" class=\"data row5 col4\" >1.490000</td>\n",
       "      <td id=\"T_9d19e_row5_col5\" class=\"data row5 col5\" >4.770000</td>\n",
       "      <td id=\"T_9d19e_row5_col6\" class=\"data row5 col6\" >1406</td>\n",
       "    </tr>\n",
       "    <tr>\n",
       "      <th id=\"T_9d19e_level0_row6\" class=\"row_heading level0 row6\" >elnet.json</th>\n",
       "      <td id=\"T_9d19e_row6_col0\" class=\"data row6 col0\" >15.450000</td>\n",
       "      <td id=\"T_9d19e_row6_col1\" class=\"data row6 col1\" >12.270000</td>\n",
       "      <td id=\"T_9d19e_row6_col2\" class=\"data row6 col2\" >2</td>\n",
       "      <td id=\"T_9d19e_row6_col3\" class=\"data row6 col3\" >0.450000</td>\n",
       "      <td id=\"T_9d19e_row6_col4\" class=\"data row6 col4\" >4.090000</td>\n",
       "      <td id=\"T_9d19e_row6_col5\" class=\"data row6 col5\" >15.450000</td>\n",
       "      <td id=\"T_9d19e_row6_col6\" class=\"data row6 col6\" >220</td>\n",
       "    </tr>\n",
       "    <tr>\n",
       "      <th id=\"T_9d19e_level0_row7\" class=\"row_heading level0 row7\" >cadmium_long.json</th>\n",
       "      <td id=\"T_9d19e_row7_col0\" class=\"data row7 col0\" >23.560000</td>\n",
       "      <td id=\"T_9d19e_row7_col1\" class=\"data row7 col1\" >7.850000</td>\n",
       "      <td id=\"T_9d19e_row7_col2\" class=\"data row7 col2\" >7</td>\n",
       "      <td id=\"T_9d19e_row7_col3\" class=\"data row7 col3\" >0.000000</td>\n",
       "      <td id=\"T_9d19e_row7_col4\" class=\"data row7 col4\" >2.840000</td>\n",
       "      <td id=\"T_9d19e_row7_col5\" class=\"data row7 col5\" >11.780000</td>\n",
       "      <td id=\"T_9d19e_row7_col6\" class=\"data row7 col6\" >917</td>\n",
       "    </tr>\n",
       "    <tr>\n",
       "      <th id=\"T_9d19e_level0_row8\" class=\"row_heading level0 row8\" >shogun.json</th>\n",
       "      <td id=\"T_9d19e_row8_col0\" class=\"data row8 col0\" >9.570000</td>\n",
       "      <td id=\"T_9d19e_row8_col1\" class=\"data row8 col1\" >23.780000</td>\n",
       "      <td id=\"T_9d19e_row8_col2\" class=\"data row8 col2\" >10</td>\n",
       "      <td id=\"T_9d19e_row8_col3\" class=\"data row8 col3\" >0.050000</td>\n",
       "      <td id=\"T_9d19e_row8_col4\" class=\"data row8 col4\" >0.880000</td>\n",
       "      <td id=\"T_9d19e_row8_col5\" class=\"data row8 col5\" >6.180000</td>\n",
       "      <td id=\"T_9d19e_row8_col6\" class=\"data row8 col6\" >2153</td>\n",
       "    </tr>\n",
       "  </tbody>\n",
       "</table>\n"
      ],
      "text/plain": [
       "<pandas.io.formats.style.Styler at 0x1396fe600>"
      ]
     },
     "execution_count": 10,
     "metadata": {},
     "output_type": "execute_result"
    }
   ],
   "source": [
    "df_scores_colorato"
   ]
  },
  {
   "cell_type": "code",
   "execution_count": 11,
   "id": "5dfcbfb1",
   "metadata": {},
   "outputs": [
    {
     "data": {
      "application/vnd.jupyter.widget-view+json": {
       "model_id": "57725bef5018488f9b00108c85f77e35",
       "version_major": 2,
       "version_minor": 0
      },
      "text/plain": [
       "Sigma(nx.DiGraph with 216 nodes and 479 edges)"
      ]
     },
     "execution_count": 11,
     "metadata": {},
     "output_type": "execute_result"
    }
   ],
   "source": [
    "astrodetection.create_network(dict_matches['cadmium_long.json'], df_dict['cadmium_long.json'])"
   ]
  }
 ],
 "metadata": {
  "kernelspec": {
   "display_name": "astrodet",
   "language": "python",
   "name": "python3"
  },
  "language_info": {
   "codemirror_mode": {
    "name": "ipython",
    "version": 3
   },
   "file_extension": ".py",
   "mimetype": "text/x-python",
   "name": "python",
   "nbconvert_exporter": "python",
   "pygments_lexer": "ipython3",
   "version": "3.12.11"
  }
 },
 "nbformat": 4,
 "nbformat_minor": 5
}
